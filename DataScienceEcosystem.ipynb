{
 "cells": [
  {
   "cell_type": "markdown",
   "id": "fea46b41",
   "metadata": {},
   "source": [
    "<h1>Data Science Tools and Ecosystem </h1>"
   ]
  },
  {
   "cell_type": "markdown",
   "id": "663d94af",
   "metadata": {},
   "source": [
    "In this notebook, Data Science Tools and Ecosystem are summarized."
   ]
  },
  {
   "cell_type": "markdown",
   "id": "9705f513",
   "metadata": {},
   "source": [
    "<h3>Obectives:</h3>\n",
    "1. List of popular languages for Data Science.\n",
    "2. List of libraraies for Data Science.\n",
    "3. Open sourse integrated enviroment for Data Science."
   ]
  },
  {
   "cell_type": "markdown",
   "id": "927a4aac",
   "metadata": {},
   "source": [
    "Some of the popular languages that Data Scientist use are:\n",
    "1. Phyton\n",
    "2. R\n",
    "3. SQL"
   ]
  },
  {
   "cell_type": "markdown",
   "id": "6f374f36",
   "metadata": {},
   "source": [
    "Some of the commenly used libraries used by Data Scientists include:\n",
    "1. numpy\n",
    "2. pandas\n",
    "3. matplotlib\n",
    "    "
   ]
  },
  {
   "cell_type": "markdown",
   "id": "6782b299",
   "metadata": {},
   "source": [
    "Data Science Tools\n",
    "1. jupyter notebook\n",
    "2. Rstudio\n",
    "3. github"
   ]
  },
  {
   "cell_type": "markdown",
   "id": "f22c8371",
   "metadata": {},
   "source": [
    "<h3>Below are some example of evaluating arithmetic expressions in python </h3>"
   ]
  },
  {
   "cell_type": "code",
   "execution_count": 1,
   "id": "f29194dd",
   "metadata": {},
   "outputs": [
    {
     "data": {
      "text/plain": [
       "17"
      ]
     },
     "execution_count": 1,
     "metadata": {},
     "output_type": "execute_result"
    }
   ],
   "source": [
    "(3*4)+5\n",
    "\n",
    "#This a simple arithemtic expression to multiply then add integers. "
   ]
  },
  {
   "cell_type": "code",
   "execution_count": 2,
   "id": "d67ca16b",
   "metadata": {},
   "outputs": [
    {
     "data": {
      "text/plain": [
       "3.3333333333333335"
      ]
     },
     "execution_count": 2,
     "metadata": {},
     "output_type": "execute_result"
    }
   ],
   "source": [
    "200/60\n",
    "\n",
    "#This will convert 200 minutes to hours by dividing by 200."
   ]
  },
  {
   "cell_type": "markdown",
   "id": "623a3514",
   "metadata": {},
   "source": [
    "<h2> Author: </h2>\n",
    "Raz Muhammad"
   ]
  },
  {
   "cell_type": "code",
   "execution_count": null,
   "id": "309a0081",
   "metadata": {},
   "outputs": [],
   "source": []
  }
 ],
 "metadata": {
  "kernelspec": {
   "display_name": "Python 3 (ipykernel)",
   "language": "python",
   "name": "python3"
  },
  "language_info": {
   "codemirror_mode": {
    "name": "ipython",
    "version": 3
   },
   "file_extension": ".py",
   "mimetype": "text/x-python",
   "name": "python",
   "nbconvert_exporter": "python",
   "pygments_lexer": "ipython3",
   "version": "3.11.3"
  }
 },
 "nbformat": 4,
 "nbformat_minor": 5
}
